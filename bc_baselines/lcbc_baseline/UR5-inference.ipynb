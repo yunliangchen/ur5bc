{
 "cells": [
  {
   "cell_type": "code",
   "execution_count": 1,
   "id": "bbe837e7-a6a7-477d-930e-5899d85f3e79",
   "metadata": {},
   "outputs": [
    {
     "name": "stderr",
     "output_type": "stream",
     "text": [
      "/nfs/nfs1/users/vmyers/miniconda3/lib/python3.8/site-packages/flax/core/frozen_dict.py:169: FutureWarning: jax.tree_util.register_keypaths is deprecated, and will be removed in a future release. Please use `register_pytree_with_keys()` instead.\n",
      "  jax.tree_util.register_keypaths(\n",
      "2023-08-18 05:09:36.614347: W tensorflow/compiler/xla/stream_executor/platform/default/dso_loader.cc:64] Could not load dynamic library 'libcudart.so.11.0'; dlerror: libcudart.so.11.0: cannot open shared object file: No such file or directory; LD_LIBRARY_PATH: :/usr/local/lib\n",
      "2023-08-18 05:09:38.429470: W tensorflow/compiler/xla/stream_executor/platform/default/dso_loader.cc:64] Could not load dynamic library 'libnvinfer.so.7'; dlerror: libnvinfer.so.7: cannot open shared object file: No such file or directory; LD_LIBRARY_PATH: :/usr/local/lib\n",
      "2023-08-18 05:09:38.429597: W tensorflow/compiler/xla/stream_executor/platform/default/dso_loader.cc:64] Could not load dynamic library 'libnvinfer_plugin.so.7'; dlerror: libnvinfer_plugin.so.7: cannot open shared object file: No such file or directory; LD_LIBRARY_PATH: :/usr/local/lib\n",
      "2023-08-18 05:09:38.429606: W tensorflow/compiler/tf2tensorrt/utils/py_utils.cc:38] TF-TRT Warning: Cannot dlopen some TensorRT libraries. If you would like to use Nvidia GPU with TensorRT, please make sure the missing libraries mentioned above are installed properly.\n",
      "2023-08-18 05:10:05.476037: W tensorflow/compiler/xla/stream_executor/platform/default/dso_loader.cc:64] Could not load dynamic library 'libcuda.so.1'; dlerror: libcuda.so.1: cannot open shared object file: No such file or directory; LD_LIBRARY_PATH: :/usr/local/lib\n",
      "2023-08-18 05:10:05.476087: W tensorflow/compiler/xla/stream_executor/cuda/cuda_driver.cc:265] failed call to cuInit: UNKNOWN ERROR (303)\n"
     ]
    }
   ],
   "source": [
    "import sys\n",
    "import os\n",
    "import numpy as np\n",
    "from PIL import Image\n",
    "from flax.training import checkpoints\n",
    "import traceback\n",
    "from jaxrl_m.vision import encoders\n",
    "from jaxrl_m.agents import agents\n",
    "from jaxrl_m.data.bridge_dataset import multi_embed\n",
    "from jaxrl_m.data.language import load_mapping, lang_encode\n",
    "from jaxrl_m.vision.clip import process_image, process_text\n",
    "from absl import app, flags, logging\n",
    "\n",
    "import time\n",
    "from datetime import datetime\n",
    "from experiments.kevin.configs.bridgedata_config import get_config\n",
    "import jax\n",
    "import time\n",
    "import tensorflow as tf\n",
    "import jax.numpy as jnp\n",
    "from flax.core import FrozenDict\n",
    "\n",
    "import nest_asyncio\n",
    "import json\n",
    "nest_asyncio.apply()\n",
    "\n",
    "FIXED_STD = np.array([0.0, 0.0, 0.0, 0.0, 0.0, 0.0, 0.0])\n",
    "\n",
    "def unnormalize_action(action, mean, std):\n",
    "    return action * std + mean"
   ]
  },
  {
   "cell_type": "code",
   "execution_count": 2,
   "id": "52a1b56e-6631-47ce-b2bf-32bc9f51968e",
   "metadata": {},
   "outputs": [],
   "source": [
    "NAME = \"all_multimodal_lawrence_lcbc_20230817_002757\"\n",
    "STEP = 10_000\n",
    "wandb_run = f\"widowx-gcrl/jaxrl_m_bridgedata/{NAME}\"\n",
    "checkpoint_path = f\"checkpoint_{STEP}\"\n",
    "\n",
    "#api = wandb.Api()\n",
    "#run = api.run(wandb_run)\n",
    "class run: config = json.load(open(\"run_config_ur5.json\", \"rb\")) # use cached config to avoid wandb login\n",
    "\n",
    "encoder_def = encoders[run.config[\"encoder\"]](**run.config[\"encoder_kwargs\"])\n",
    "task_encoder_defs = {\n",
    "    k: encoders[run.config[\"task_encoders\"][k]](\n",
    "        **run.config[\"task_encoder_kwargs\"][k]\n",
    "    )\n",
    "    for k in (\"image\", \"language\")\n",
    "    if k in run.config[\"task_encoders\"]\n",
    "}\n",
    "\n",
    "action_metadata = run.config[\"bridgedata_config\"][\"action_metadata\"]\n",
    "action_mean = np.array(action_metadata[\"mean\"])\n",
    "action_std = np.array(action_metadata[\"std\"])"
   ]
  },
  {
   "cell_type": "code",
   "execution_count": 3,
   "id": "85db8e75-7c66-4541-aa99-714083ee9a30",
   "metadata": {},
   "outputs": [
    {
     "name": "stdout",
     "output_type": "stream",
     "text": [
      "optimizer partitions:\n",
      "FrozenDict({\n",
      "    contrastive_temp: 'encoder',\n",
      "    encoders_actor_0: {\n",
      "        Dense_0: {\n",
      "            bias: 'actor',\n",
      "        },\n",
      "    },\n",
      "    networks_actor: {\n",
      "        MLP_0: {\n",
      "            layers_2: {\n",
      "                bias: 'actor',\n",
      "                kernel: 'actor',\n",
      "            },\n",
      "        },\n",
      "    },\n",
      "})\n"
     ]
    }
   ],
   "source": [
    "load_mapping(run.config[\"data_path\"])\n",
    "\n",
    "example_batch = {\n",
    "    \"observations\": {\"image\": jnp.zeros((10, 128, 128, 3), dtype=jnp.uint8)},\n",
    "    \"initial_obs\": {\"image\": jnp.zeros((10, 128, 128, 3), dtype=jnp.uint8)},\n",
    "    \"goals\": {\n",
    "        \"image\": jnp.zeros((10, 128, 128, 3), dtype=jnp.uint8),\n",
    "        \"language\": jnp.zeros((10, 512)),\n",
    "        \"language_mask\": jnp.ones(10, dtype=bool),\n",
    "    },\n",
    "    \"actions\": jnp.zeros((10, 7), dtype=jnp.float32),\n",
    "}\n",
    "\n",
    "rng = jax.random.PRNGKey(0)\n",
    "rng, construct_rng = jax.random.split(rng)\n",
    "agent = agents[run.config[\"agent\"]].create(\n",
    "    rng=construct_rng,\n",
    "    observations=example_batch[\"observations\"],\n",
    "    initial_obs=example_batch[\"initial_obs\"],\n",
    "    goals=example_batch[\"goals\"],\n",
    "    actions=example_batch[\"actions\"],\n",
    "    encoder_def=encoder_def,\n",
    "    task_encoder_defs=task_encoder_defs,\n",
    "    **run.config[\"agent_kwargs\"],\n",
    ")\n",
    "restored = checkpoints.restore_checkpoint(checkpoint_path, agent)\n",
    "assert restored is not agent\n",
    "agent = restored"
   ]
  },
  {
   "cell_type": "code",
   "execution_count": 4,
   "id": "ddc316b6-b068-48c3-8b70-e44e99b7da19",
   "metadata": {},
   "outputs": [],
   "source": [
    "val_data = jnp.load('ur5_val/out.npy', allow_pickle=True)\n",
    "\n",
    "def get_trans(idx, time):\n",
    "    return (\n",
    "        val_data[idx][\"observations\"][0][\"images0\"],\n",
    "        val_data[idx][\"observations\"][time][\"images0\"], \n",
    "        val_data[idx]['language'][time].item(),\n",
    "    )"
   ]
  },
  {
   "cell_type": "code",
   "execution_count": 5,
   "id": "635e76eb-ba57-4e49-880d-256aca3dea94",
   "metadata": {},
   "outputs": [],
   "source": [
    "def predict_actions(initial_obs, current_obs, language):\n",
    "    return agent.sample_actions(\n",
    "        dict(image=current_obs),\n",
    "        dict(language=multi_embed(language)),\n",
    "        dict(image=initial_obs),\n",
    "        seed=rng,\n",
    "        modality=\"language\",\n",
    "        argmax=True,\n",
    "    )"
   ]
  },
  {
   "cell_type": "code",
   "execution_count": 6,
   "id": "a24040c2-01fc-46ab-af07-58fa93531537",
   "metadata": {},
   "outputs": [
    {
     "data": {
      "text/plain": [
       "Array([-0.7309984 ,  0.58064705,  0.83200514,  0.10265408, -0.04553585,\n",
       "        0.04656164,  0.01063498], dtype=float32)"
      ]
     },
     "execution_count": 6,
     "metadata": {},
     "output_type": "execute_result"
    }
   ],
   "source": [
    "predict_actions(*get_trans(idx=0, time=10))"
   ]
  }
 ],
 "metadata": {
  "kernelspec": {
   "display_name": "Python 3 (ipykernel)",
   "language": "python",
   "name": "python3"
  },
  "language_info": {
   "codemirror_mode": {
    "name": "ipython",
    "version": 3
   },
   "file_extension": ".py",
   "mimetype": "text/x-python",
   "name": "python",
   "nbconvert_exporter": "python",
   "pygments_lexer": "ipython3",
   "version": "3.8.16"
  }
 },
 "nbformat": 4,
 "nbformat_minor": 5
}
